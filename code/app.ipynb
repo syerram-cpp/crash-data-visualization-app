{
 "cells": [
  {
   "cell_type": "code",
   "execution_count": null,
   "metadata": {},
   "outputs": [],
   "source": [
    "import pandas as pd\n",
    "import numpy as np\n",
    "\n",
    "import datetime as dt\n",
    "from datetime import timedelta\n",
    "from pandas.tseries.offsets import MonthBegin\n",
    "\n",
    "# USED FOR WIDGETS, USER INTERFACE, AND PLOTTING\n",
    "from IPython.display import display, clear_output\n",
    "import ipywidgets as widgets\n",
    "from ipywidgets import Layout, VBox, HBox\n",
    "from matplotlib import pyplot as mplt\n",
    "from bqplot import *\n",
    "\n",
    "#import warnings\n",
    "#warnings.filterwarnings(\"ignore\")\n",
    "import statsmodels.api as sm\n",
    "\n",
    "# USED FOR ACCIDENT HOTSPOT & HEAT-MAP\n",
    "import folium\n",
    "from sklearn.cluster import DBSCAN as dbscan\n",
    "from folium.plugins import HeatMap"
   ]
  },
  {
   "cell_type": "code",
   "execution_count": null,
   "metadata": {},
   "outputs": [],
   "source": [
    "df_all = pd.read_csv('crash.csv')\n",
    "\n",
    "def to_date(datetime_string):\n",
    "    crash_date = dt.datetime.strptime(datetime_string, '%m/%d/%Y %I:%M:%S %p').date()\n",
    "    return crash_date\n",
    "\n",
    "df_all['Date'] = df_all['Crash Date/Time'].apply(lambda x: to_date(x))\n",
    "df = df_all[['Date', 'Road Name', 'Injury Severity', 'Longitude', 'Latitude']]"
   ]
  },
  {
   "cell_type": "code",
   "execution_count": null,
   "metadata": {},
   "outputs": [],
   "source": [
    "box_layout = widgets.Layout(display='flex',\n",
    "                           align_items='center',\n",
    "                           width='100%')"
   ]
  },
  {
   "cell_type": "code",
   "execution_count": null,
   "metadata": {},
   "outputs": [],
   "source": []
  },
  {
   "cell_type": "code",
   "execution_count": 10,
   "metadata": {},
   "outputs": [
    {
     "data": {
      "application/vnd.jupyter.widget-view+json": {
       "model_id": "7edd13f510c344d8bc4d0db24dc65981",
       "version_major": 2,
       "version_minor": 0
      },
      "text/plain": [
       "VBox(children=(HTML(value=\"<b><font color='black'><font size=10><text-align='center'>Top 20 Roads with the Hig…"
      ]
     },
     "metadata": {},
     "output_type": "display_data"
    }
   ],
   "source": [
    "# PIE CHART\n",
    "\n",
    "# Plot Pie Chart\n",
    "top_20_roads = df['Road Name'].value_counts().head(20)\n",
    "road_name_counts = pd.DataFrame({'Road Name':top_20_roads.index, 'Accident Count':top_20_roads.values})\n",
    "\n",
    "total_accident_count = df['Road Name'].value_counts().sum()\n",
    "top_accident_count = top_20_roads.values.sum()\n",
    "road_name_counts.loc[11] = ['OTHER', total_accident_count-top_accident_count]\n",
    "\n",
    "colors=['#606c38', '#283618', '#fefae0', '#dda15e', '#bc6c25']\n",
    "road_name_counts.plot(figsize=(20,10), kind='pie', y='Accident Count', labels=road_name_counts['Road Name'], \n",
    "                      colors=colors)\n",
    "\n",
    "\n",
    "# Design User Interface\n",
    "pie_label = widgets.HTML(value = f\"<b><font color='black'><font size=10><text-align='center'>{'Top 20 Roads with the Highest Accident Counts'}</b>\")\n",
    "pie_output = widgets.Output()\n",
    "\n",
    "pie_ui = VBox([pie_label, pie_output], layout=box_layout)\n",
    "with pie_output:\n",
    "    mplt.legend(loc=3, prop={'size': 15})\n",
    "    mplt.show()\n",
    "pie_ui"
   ]
  },
  {
   "cell_type": "code",
   "execution_count": null,
   "metadata": {},
   "outputs": [],
   "source": []
  },
  {
   "cell_type": "code",
   "execution_count": null,
   "metadata": {},
   "outputs": [],
   "source": []
  },
  {
   "cell_type": "code",
   "execution_count": null,
   "metadata": {
    "scrolled": true
   },
   "outputs": [],
   "source": []
  },
  {
   "cell_type": "code",
   "execution_count": 4,
   "metadata": {},
   "outputs": [],
   "source": [
    "\n",
    "min_date = df['Date'].min()\n",
    "max_date = df['Date'].max() - MonthBegin(1)\n",
    "idx = pd.date_range(min_date, max_date) \n",
    "\n",
    "def forecast_time_series(road_name, start, end):\n",
    "    series = df[df['Road Name'] == road_name]\n",
    "    series = series.groupby(['Date'])['Road Name'].value_counts().unstack()\n",
    "    series = series.reindex(idx, fill_value=0)\n",
    "    series = series.resample('MS').sum()\n",
    "    series.drop(series.index[-1], axis=0, inplace=True)\n",
    "    \n",
    "    series_x = series[(series.index>=pd.to_datetime(start)) & (series.index<=pd.to_datetime(end))]\n",
    "    series_x = np.array(series_x.index)\n",
    "    series_y = np.array(series[start:end][road_name].values)\n",
    "\n",
    "    mod = sm.tsa.statespace.SARIMAX(series, order=(0, 1, 0), seasonal_order=(0, 1, 1, 12), enforce_stationarity=False, enforce_invertibility=False)\n",
    "\n",
    "    results = mod.fit()\n",
    "\n",
    "    x_sc = DateScale()\n",
    "    y_sc = LinearScale()\n",
    "\n",
    "    ax_x = Axis(label='Date', scale=x_sc, grid_lines='none')\n",
    "    ax_y = Axis(label='Number of Accidents', scale=y_sc, grid_lines='none', orientation='vertical')\n",
    "\n",
    "    observed_line = Lines(x=series_x, y=series_y, scales={'x': x_sc, 'y': y_sc}, colors=['#fefae0'], display_legend=True,  labels=['Observed'], stroke_width=4)\n",
    "\n",
    "    if end >= max_date:\n",
    "        pred = results.get_forecast(steps=3)\n",
    "        pred_y = pred.predicted_mean\n",
    "        pred_x = pd.date_range(pd.to_datetime(end)-MonthBegin(1), end+MonthBegin(3), freq='MS') \n",
    "        predicted_line = Lines(x=pred_x, y=pred_y, scales={'x': x_sc, 'y': y_sc}, colors=['#dda15e'], display_legend=True,  labels=['3-Month Forecast'], stroke_width=4)\n",
    "        marks=[observed_line, predicted_line]\n",
    "    else:\n",
    "        marks=[observed_line]\n",
    "\n",
    "    title='Monthly Accidents on '+ road_name\n",
    "    fig = Figure(axes=[ax_x, ax_y], title=title, marks=marks, background_style={'fill':'#283618'}, figsize=(30,21))\n",
    "    return fig"
   ]
  },
  {
   "cell_type": "code",
   "execution_count": 7,
   "metadata": {},
   "outputs": [
    {
     "data": {
      "application/vnd.jupyter.widget-view+json": {
       "model_id": "35db895bcbe04ff2a5f6e28e718a167e",
       "version_major": 2,
       "version_minor": 0
      },
      "text/plain": [
       "VBox(children=(VBox(children=(HTML(value=\"<b><font color='black'><font size=7>Monthly Accidents By Road</b>\"),…"
      ]
     },
     "metadata": {},
     "output_type": "display_data"
    }
   ],
   "source": [
    "plot_label = widgets.HTML(value = f\"<b><font color='black'><font size=7>{'Monthly Accidents By Road'}</b>\")\n",
    "\n",
    "road_names = df['Road Name'].value_counts().head(50)\n",
    "road_names = np.array(road_names.index)\n",
    "road_names.sort()\n",
    "road_selector = widgets.Dropdown(options=road_names,\n",
    "                                 value='GEORGIA AVE',\n",
    "                                 description='Road Name',\n",
    "                                 disabled=False)\n",
    "\n",
    "dates = pd.date_range(df['Date'].min(), df['Date'].max(), freq='MS')\n",
    "options = [(date.strftime(' %d %b %Y '), date) for date in dates]\n",
    "date_selector = widgets.SelectionRangeSlider(options=options,\n",
    "                                             index=(0, len(options)-1),\n",
    "                                             description='Dates',\n",
    "                                             orientation='horizontal',\n",
    "                                             layout={'width': '800px'})\n",
    "\n",
    "button = widgets.Button(description=\"Plot\")\n",
    "output = widgets.Output(layout=Layout(width='100%', height='100%'))\n",
    "\n",
    "\n",
    "def showOutput(btn):    \n",
    "    road_name = road_selector.value\n",
    "    start=date_selector.value[0]\n",
    "    end=date_selector.value[1]\n",
    "    \n",
    "    figure = forecast_time_series(road_name, start, end)\n",
    "    with output:\n",
    "        clear_output(wait=True)\n",
    "        display(figure)\n",
    "\n",
    "        \n",
    "button.on_click(showOutput)\n",
    "\n",
    "graph = HBox([output])\n",
    "time_series_ui = VBox(children=[plot_label, road_selector, date_selector, button], layout=box_layout)\n",
    "time_series_ui = VBox([time_series_ui, graph])\n",
    "with output:\n",
    "    time_series_figure = forecast_time_series(road_selector.value, date_selector.value[0], date_selector.value[1])\n",
    "    clear_output(wait=True)\n",
    "    display(time_series_figure)\n",
    "time_series_ui"
   ]
  },
  {
   "cell_type": "code",
   "execution_count": 39,
   "metadata": {},
   "outputs": [],
   "source": []
  },
  {
   "cell_type": "code",
   "execution_count": null,
   "metadata": {},
   "outputs": [],
   "source": []
  },
  {
   "cell_type": "code",
   "execution_count": null,
   "metadata": {},
   "outputs": [],
   "source": []
  },
  {
   "cell_type": "code",
   "execution_count": 26,
   "metadata": {},
   "outputs": [
    {
     "data": {
      "application/vnd.jupyter.widget-view+json": {
       "model_id": "658ae8cb1ad54324ad701809dd7ddd2a",
       "version_major": 2,
       "version_minor": 0
      },
      "text/plain": [
       "VBox(children=(HTML(value=\"<b><font color='black'><font size=7>Hourly Accidents By Road & Injury Severity</b>\"…"
      ]
     },
     "metadata": {},
     "output_type": "display_data"
    }
   ],
   "source": [
    "def to_hour(crash_time):\n",
    "    crash_time = dt.datetime.strptime(crash_time, '%m/%d/%Y %I:%M:%S %p')\n",
    "    return crash_time.hour\n",
    "\n",
    "df_hourly = df_all[['Road Name','Crash Date/Time', 'Injury Severity']]\n",
    "df_hourly['Hour'] = df_hourly['Crash Date/Time'].apply(lambda x: to_hour(x))\n",
    "df_hourly.drop(['Crash Date/Time'], axis=1, inplace=True)\n",
    "\n",
    "\n",
    "def plot_by_hour(road_selector):\n",
    "    df_hr = df_hourly[df_hourly['Road Name'] == road_selector]\n",
    "    df_hr = df_hr.groupby('Hour')['Injury Severity'].value_counts().unstack()\n",
    "    df_hr = df_hr.replace(np.nan,0)\n",
    "\n",
    "    legend = ['FATAL INJURY', \n",
    "              'SUSPECTED SERIOUS INJURY', \n",
    "              'SUSPECTED MINOR INJURY', \n",
    "              'POSSIBLE INJURY', \n",
    "              'NO APPARENT INJURY']\n",
    "\n",
    "    empty = [0]*24\n",
    "    empty = pd.DataFrame(empty)\n",
    "    for label in legend:\n",
    "        try: x = df_hr[label]\n",
    "        except: df_hr[label] = empty\n",
    "\n",
    "    df_hr = df_hr[legend]\n",
    "\n",
    "    fatal = df_hr.iloc[:,0].tolist()\n",
    "    serious = df_hr.iloc[:,1].tolist()\n",
    "    minor = df_hr.iloc[:,2].tolist()\n",
    "    possible = df_hr.iloc[:,3].tolist()\n",
    "    none = df_hr.iloc[:,4].tolist()\n",
    "    values = [fatal, serious, minor, possible, none]\n",
    "\n",
    "    x_ord = OrdinalScale()\n",
    "    y_sc = LinearScale()\n",
    "    \n",
    "    colors=['#dda15e', '#bc6c25','#fefae0', '#606c38', '#283618']\n",
    "    bar = Bars(x=df_hr.index, y=values, \n",
    "               scales={'x': x_ord, 'y':y_sc}, \n",
    "               colors=colors, display_legend=True, type='stacked', \n",
    "               labels=['FATAL INJURY', 'SUSPECTED SERIOUS INJURY', 'SUSPECTED MINOR INJURY', 'POSSIBLE INJURY', 'NO APPARENT INJURY'])\n",
    "\n",
    "\n",
    "    ax_x = Axis(scale=x_ord, grid_lines='none', label='Hour (24-Hour Format)')\n",
    "    ax_y = Axis(scale=y_sc, grid_lines='dashed', orientation='vertical', tick_format='0.2f', label='Number of Accidents')\n",
    "\n",
    "    title = \"Hourly Accidents on \" + road_selector\n",
    "    fig = Figure(marks=[bar], title=title, legend_location='top-left', \n",
    "                 axes=[ax_x, ax_y], legend_style={'fill':'black', 'opacity':0.5}, \n",
    "                 legend_text={'font-size':10})\n",
    "    return fig\n",
    "\n",
    "\n",
    "bar_label = widgets.HTML(value = f\"<b><font color='black'><font size=7>{'Hourly Accidents By Road & Injury Severity'}</b>\")\n",
    "bar_road_selector = widgets.Dropdown(\n",
    "    options=road_names,\n",
    "    value='GEORGIA AVE',\n",
    "    description='Road Name',\n",
    "    disabled=False\n",
    ")\n",
    "bar_output = widgets.Output(layout=Layout(width='100%', height='100%'))\n",
    "\n",
    "def on_change(change):\n",
    "    if change['type'] == 'change' and change['name'] == 'value':\n",
    "        fig = plot_by_hour(change['new']) \n",
    "        with bar_output:\n",
    "            clear_output(wait=True)\n",
    "            display(fig)\n",
    "\n",
    "\n",
    "bar_road_selector.observe(on_change)\n",
    "\n",
    "bar_ui = VBox([bar_label, bar_road_selector, bar_output], layout=box_layout)\n",
    "with bar_output:\n",
    "    fig = plot_by_hour(bar_road_selector.value) \n",
    "    display(fig)\n",
    "    clear_output(wait=True)\n",
    "bar_ui"
   ]
  },
  {
   "cell_type": "code",
   "execution_count": null,
   "metadata": {},
   "outputs": [],
   "source": []
  },
  {
   "cell_type": "code",
   "execution_count": null,
   "metadata": {},
   "outputs": [],
   "source": []
  },
  {
   "cell_type": "code",
   "execution_count": null,
   "metadata": {},
   "outputs": [],
   "source": []
  },
  {
   "cell_type": "code",
   "execution_count": 22,
   "metadata": {},
   "outputs": [
    {
     "data": {
      "application/vnd.jupyter.widget-view+json": {
       "model_id": "4afbf366e5864f2b957087905ca5b2c7",
       "version_major": 2,
       "version_minor": 0
      },
      "text/plain": [
       "HTML(value=\"<b><font color='black'><font size=10>Accident Hotspots</b>\")"
      ]
     },
     "metadata": {},
     "output_type": "display_data"
    }
   ],
   "source": []
  },
  {
   "cell_type": "code",
   "execution_count": 24,
   "metadata": {},
   "outputs": [
    {
     "name": "stdout",
     "output_type": "stream",
     "text": [
      "[-1  0  1  2  3  4  5  6  7  8  9 10 11 12 13 14 15 16 17 18 19 20 21 22\n",
      " 23 24 25 26 27 28 29 30 31 32 33]\n"
     ]
    },
    {
     "data": {
      "application/vnd.jupyter.widget-view+json": {
       "model_id": "906e1bb35ce94166ab3a2ab04134f444",
       "version_major": 2,
       "version_minor": 0
      },
      "text/plain": [
       "VBox(children=(HTML(value=\"<b><font color='black'><font size=10>Accident Hotspots</b>\"), Output(layout=Layout(…"
      ]
     },
     "metadata": {},
     "output_type": "display_data"
    }
   ],
   "source": [
    "df_dbc = df\n",
    "loc = df_dbc[['Latitude','Longitude']]\n",
    "\n",
    "# 0.1, 20 returned 512 clusters  # colorful but very crowded\n",
    "# 0.1, 50 returned 304 clusters  # better but still crowded\n",
    "dbc = dbscan(eps=0.04/6371, min_samples=100, algorithm='ball_tree', metric='haversine').fit(np.radians(loc))\n",
    "\n",
    "labels = dbc.labels_\n",
    "unique_labels = np.unique(dbc.labels_)\n",
    "df_dbc['Cluster'] = labels\n",
    "\n",
    "start_location = df_dbc['Latitude'].mean(), df_dbc['Longitude'].mean()\n",
    "m = folium.Map(location=start_location,zoom_start=12, min_zoom=12, max_zoom=17, tiles=\"Stamen Toner\")\n",
    "\n",
    "clust_colours = ['#a6cee3','#1f78b4','#b2df8a','#33a02c','#fb9a99','#e31a1c','#fdbf6f','#ff7f00','#cab2d6','#6a3d9a','#ffff99','#b15928']\n",
    "for i in range(0,len(df_dbc)):\n",
    "    colouridx = df_dbc['Cluster'].iloc[i]\n",
    "    if colouridx == -1:\n",
    "        pass\n",
    "    else:\n",
    "        col = clust_colours[colouridx%len(clust_colours)]\n",
    "        folium.CircleMarker([df_dbc['Latitude'].iloc[i],df_dbc['Longitude'].iloc[i]], radius = 10, color = col, fill = col).add_to(m)\n",
    "\n",
    "        \n",
    "# Designing User Interface\n",
    "hotspot_label = widgets.HTML(value = f\"<b><font color='black'><font size=10>{'Accident Hotspots'}</b>\")\n",
    "hotspot_output = widgets.Output(layout=Layout(width='100%', height='100%'))\n",
    "\n",
    "with hotspot_output:\n",
    "    display(m)\n",
    "hotspot_ui = VBox([hotspot_label, hotspot_output], layout=box_layout)\n",
    "hotspot_ui"
   ]
  },
  {
   "cell_type": "code",
   "execution_count": null,
   "metadata": {},
   "outputs": [],
   "source": []
  },
  {
   "cell_type": "code",
   "execution_count": 7,
   "metadata": {},
   "outputs": [
    {
     "data": {
      "application/vnd.jupyter.widget-view+json": {
       "model_id": "68a452b9eee94756ae06c5c8ada69f42",
       "version_major": 2,
       "version_minor": 0
      },
      "text/plain": [
       "VBox(children=(HTML(value=\"<b><font color='black'><font size=10>Heatmap of Accidents Over Time</b>\"),), layout…"
      ]
     },
     "metadata": {},
     "output_type": "display_data"
    }
   ],
   "source": [
    "# Heat-map Widgets\n",
    "\n",
    "heatmap_label = widgets.HTML(value = f\"<b><font color='black'><font size=10>{'Heatmap of Accidents Over Time'}</b>\")\n",
    "heatmap_ui = VBox([heatmap_label], layout=box_layout)\n",
    "display(heatmap_ui)\n",
    "\n",
    "hm_dates = pd.date_range(df['Date'].min(), df['Date'].max(), freq='D')\n",
    "options = [(date.strftime(' %d %b %Y '), date) for date in hm_dates]\n",
    "\n",
    "hm_date_selector = widgets.SelectionRangeSlider(\n",
    "    options=options,\n",
    "    index=(0, len(options)-1),\n",
    "    description='Dates',\n",
    "    orientation='horizontal',\n",
    "    continuous_update=False,\n",
    "    layout={'width': '1500px'}\n",
    ")"
   ]
  },
  {
   "cell_type": "code",
   "execution_count": 12,
   "metadata": {},
   "outputs": [
    {
     "data": {
      "application/vnd.jupyter.widget-view+json": {
       "model_id": "fbeaad470b6b488c8472422ea7044fa5",
       "version_major": 2,
       "version_minor": 0
      },
      "text/plain": [
       "interactive(children=(SelectionRangeSlider(continuous_update=False, description='Dates', index=(0, 1728), layo…"
      ]
     },
     "metadata": {},
     "output_type": "display_data"
    },
    {
     "data": {
      "text/plain": [
       "<function __main__.plot_interactive_heatmap(date_selector)>"
      ]
     },
     "execution_count": 12,
     "metadata": {},
     "output_type": "execute_result"
    }
   ],
   "source": [
    "df_heatmap = df[['Date', 'Longitude', 'Latitude']]\n",
    "\n",
    "def plot_heatmap(start, end):\n",
    "    df_hm = df_heatmap[(df_heatmap['Date'] > pd.to_datetime(start)) &\n",
    "                       (df_heatmap['Date'] < pd.to_datetime(end))]\n",
    "\n",
    "    lat = float(df_hm['Latitude'].median())\n",
    "    long = float(df_hm['Longitude'].median())\n",
    "    m = folium.Map(location=[lat, long], zoom_start=12, min_zoom=8, max_zoom=17, tiles=\"Stamen Toner\")\n",
    "    hm = HeatMap(list(zip(df_hm.Latitude.values, df_hm.Longitude.values)),\n",
    "                 name='Accidents',\n",
    "                 min_opacity=0.8,\n",
    "                 radius=5, blur=6)\n",
    "\n",
    "    m.add_child(hm)\n",
    "    display(m)\n",
    "    clear_output(wait=True)\n",
    "    \n",
    "def plot_interactive_heatmap(date_selector):\n",
    "    start=date_selector[0].date()\n",
    "    end=date_selector[1].date()\n",
    "    plot_heatmap(start, end)\n",
    "\n",
    "widgets.interact(plot_interactive_heatmap, date_selector=hm_date_selector)\n"
   ]
  },
  {
   "cell_type": "code",
   "execution_count": null,
   "metadata": {},
   "outputs": [],
   "source": []
  },
  {
   "cell_type": "code",
   "execution_count": null,
   "metadata": {},
   "outputs": [],
   "source": []
  },
  {
   "cell_type": "code",
   "execution_count": null,
   "metadata": {},
   "outputs": [],
   "source": []
  }
 ],
 "metadata": {
  "kernelspec": {
   "display_name": "Python 3",
   "language": "python",
   "name": "python3"
  },
  "language_info": {
   "codemirror_mode": {
    "name": "ipython",
    "version": 3
   },
   "file_extension": ".py",
   "mimetype": "text/x-python",
   "name": "python",
   "nbconvert_exporter": "python",
   "pygments_lexer": "ipython3",
   "version": "3.8.5"
  }
 },
 "nbformat": 4,
 "nbformat_minor": 4
}
